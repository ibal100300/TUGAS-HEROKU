{
 "cells": [
  {
   "cell_type": "code",
   "execution_count": 1,
   "id": "2e8702d0-8b3e-4d51-b5c8-6dbb1c4f5e07",
   "metadata": {},
   "outputs": [],
   "source": [
    "# Impor library yang dibutuhkan\n",
    "import numpy as np\n",
    "import matplotlib.pyplot as plt\n",
    "import pandas as pd\n",
    "import joblib"
   ]
  },
  {
   "cell_type": "code",
   "execution_count": 2,
   "id": "8be75934-f092-43bd-a0f7-3b49f46aa442",
   "metadata": {},
   "outputs": [],
   "source": [
    "# Impor df\n",
    "df = pd.read_csv('datasets/clean.csv')\n",
    "df['weight'] = df['weight'].round(decimals = 1)\n",
    "df['height'] = df['height'].round(decimals = 1)"
   ]
  },
  {
   "cell_type": "code",
   "execution_count": 3,
   "id": "6e162a00-32d9-4bf6-9762-39540d855546",
   "metadata": {},
   "outputs": [],
   "source": [
    "values = ['Male']\n",
    "df1 = df[df.gender.isin(values) == True]\n",
    "df2 = df[df.gender.isin(values) == False]"
   ]
  },
  {
   "cell_type": "code",
   "execution_count": 4,
   "id": "4cf5717c-5e91-4704-93a5-4b0d854d8212",
   "metadata": {},
   "outputs": [
    {
     "data": {
      "text/html": [
       "<div>\n",
       "<style scoped>\n",
       "    .dataframe tbody tr th:only-of-type {\n",
       "        vertical-align: middle;\n",
       "    }\n",
       "\n",
       "    .dataframe tbody tr th {\n",
       "        vertical-align: top;\n",
       "    }\n",
       "\n",
       "    .dataframe thead th {\n",
       "        text-align: right;\n",
       "    }\n",
       "</style>\n",
       "<table border=\"1\" class=\"dataframe\">\n",
       "  <thead>\n",
       "    <tr style=\"text-align: right;\">\n",
       "      <th></th>\n",
       "      <th>gender</th>\n",
       "      <th>weight</th>\n",
       "      <th>height</th>\n",
       "    </tr>\n",
       "  </thead>\n",
       "  <tbody>\n",
       "    <tr>\n",
       "      <th>0</th>\n",
       "      <td>Male</td>\n",
       "      <td>73.8</td>\n",
       "      <td>241.9</td>\n",
       "    </tr>\n",
       "    <tr>\n",
       "      <th>1</th>\n",
       "      <td>Male</td>\n",
       "      <td>68.8</td>\n",
       "      <td>162.3</td>\n",
       "    </tr>\n",
       "    <tr>\n",
       "      <th>2</th>\n",
       "      <td>Male</td>\n",
       "      <td>74.1</td>\n",
       "      <td>212.7</td>\n",
       "    </tr>\n",
       "    <tr>\n",
       "      <th>3</th>\n",
       "      <td>Male</td>\n",
       "      <td>71.7</td>\n",
       "      <td>220.0</td>\n",
       "    </tr>\n",
       "    <tr>\n",
       "      <th>4</th>\n",
       "      <td>Male</td>\n",
       "      <td>69.9</td>\n",
       "      <td>206.4</td>\n",
       "    </tr>\n",
       "  </tbody>\n",
       "</table>\n",
       "</div>"
      ],
      "text/plain": [
       "  gender  weight  height\n",
       "0   Male    73.8   241.9\n",
       "1   Male    68.8   162.3\n",
       "2   Male    74.1   212.7\n",
       "3   Male    71.7   220.0\n",
       "4   Male    69.9   206.4"
      ]
     },
     "execution_count": 4,
     "metadata": {},
     "output_type": "execute_result"
    }
   ],
   "source": [
    "df1.head()"
   ]
  },
  {
   "cell_type": "code",
   "execution_count": 5,
   "id": "8a4ef924-e95a-4dab-8462-04bd26a4c577",
   "metadata": {},
   "outputs": [
    {
     "data": {
      "text/html": [
       "<div>\n",
       "<style scoped>\n",
       "    .dataframe tbody tr th:only-of-type {\n",
       "        vertical-align: middle;\n",
       "    }\n",
       "\n",
       "    .dataframe tbody tr th {\n",
       "        vertical-align: top;\n",
       "    }\n",
       "\n",
       "    .dataframe thead th {\n",
       "        text-align: right;\n",
       "    }\n",
       "</style>\n",
       "<table border=\"1\" class=\"dataframe\">\n",
       "  <thead>\n",
       "    <tr style=\"text-align: right;\">\n",
       "      <th></th>\n",
       "      <th>gender</th>\n",
       "      <th>weight</th>\n",
       "      <th>height</th>\n",
       "    </tr>\n",
       "  </thead>\n",
       "  <tbody>\n",
       "    <tr>\n",
       "      <th>5000</th>\n",
       "      <td>Female</td>\n",
       "      <td>58.9</td>\n",
       "      <td>102.1</td>\n",
       "    </tr>\n",
       "    <tr>\n",
       "      <th>5001</th>\n",
       "      <td>Female</td>\n",
       "      <td>65.2</td>\n",
       "      <td>141.3</td>\n",
       "    </tr>\n",
       "    <tr>\n",
       "      <th>5002</th>\n",
       "      <td>Female</td>\n",
       "      <td>63.4</td>\n",
       "      <td>131.0</td>\n",
       "    </tr>\n",
       "    <tr>\n",
       "      <th>5003</th>\n",
       "      <td>Female</td>\n",
       "      <td>64.5</td>\n",
       "      <td>128.2</td>\n",
       "    </tr>\n",
       "    <tr>\n",
       "      <th>5004</th>\n",
       "      <td>Female</td>\n",
       "      <td>61.8</td>\n",
       "      <td>129.8</td>\n",
       "    </tr>\n",
       "  </tbody>\n",
       "</table>\n",
       "</div>"
      ],
      "text/plain": [
       "      gender  weight  height\n",
       "5000  Female    58.9   102.1\n",
       "5001  Female    65.2   141.3\n",
       "5002  Female    63.4   131.0\n",
       "5003  Female    64.5   128.2\n",
       "5004  Female    61.8   129.8"
      ]
     },
     "execution_count": 5,
     "metadata": {},
     "output_type": "execute_result"
    }
   ],
   "source": [
    "df2.head()"
   ]
  },
  {
   "cell_type": "code",
   "execution_count": 6,
   "id": "2c7511b0-8675-4c50-9a29-2ca5af8e9f90",
   "metadata": {},
   "outputs": [],
   "source": [
    "X1 = df1.iloc[:, 2].values[:,np.newaxis]\n",
    "y1 = df1.iloc[:, 1].values"
   ]
  },
  {
   "cell_type": "code",
   "execution_count": 7,
   "id": "0d27c60e-5267-42d8-9913-d49f249429ef",
   "metadata": {},
   "outputs": [],
   "source": [
    "X2 = df2.iloc[:, 2].values[:,np.newaxis]\n",
    "y2 = df2.iloc[:, 1].values"
   ]
  },
  {
   "cell_type": "code",
   "execution_count": 8,
   "id": "6a4acb94-dd3b-4977-b99c-06413a29e944",
   "metadata": {},
   "outputs": [
    {
     "data": {
      "text/plain": [
       "array([[241.9],\n",
       "       [162.3],\n",
       "       [212.7],\n",
       "       ...,\n",
       "       [199.2],\n",
       "       [185.9],\n",
       "       [198.9]])"
      ]
     },
     "execution_count": 8,
     "metadata": {},
     "output_type": "execute_result"
    }
   ],
   "source": [
    "X1"
   ]
  },
  {
   "cell_type": "code",
   "execution_count": 9,
   "id": "e8f380f1-099e-4bb8-9183-992a4d0c255f",
   "metadata": {},
   "outputs": [
    {
     "data": {
      "text/plain": [
       "array([[102.1],\n",
       "       [141.3],\n",
       "       [131. ],\n",
       "       ...,\n",
       "       [128.5],\n",
       "       [163.9],\n",
       "       [113.6]])"
      ]
     },
     "execution_count": 9,
     "metadata": {},
     "output_type": "execute_result"
    }
   ],
   "source": [
    "X2"
   ]
  },
  {
   "cell_type": "code",
   "execution_count": 56,
   "id": "f0ab1889-352f-456e-8407-e8988efc2445",
   "metadata": {},
   "outputs": [],
   "source": [
    "# Membagi data menjadi Training Set dan Test Set\n",
    "from sklearn.model_selection import train_test_split\n",
    "#MALE\n",
    "#X_train, X_test, y_train, y_test = train_test_split(X1, y1, test_size = 0.2, random_state = 0)\n",
    "#FEMALE\n",
    "X_train, X_test, y_train, y_test = train_test_split(X2, y2, test_size = 0.2, random_state = 0)\n",
    " \n",
    "# Fitting Simple Linear Regression terhadap Training set\n",
    "from sklearn.linear_model import LinearRegression\n",
    "regressor = LinearRegression()\n",
    "model = regressor.fit(X_train, y_train)\n",
    "\n",
    " \n",
    "# Memprediksi hasil Test Set\n",
    "y_pred = regressor.predict(X_test)"
   ]
  },
  {
   "cell_type": "code",
   "execution_count": 63,
   "id": "f33cc8fc-141b-44ac-a6c9-4179b9587529",
   "metadata": {},
   "outputs": [
    {
     "data": {
      "text/plain": [
       "['FEMALE-classification-using-logistic-regression.pkl']"
      ]
     },
     "execution_count": 63,
     "metadata": {},
     "output_type": "execute_result"
    }
   ],
   "source": [
    "#joblib.dump((model), \"MALE-classification-using-logistic-regression.pkl\")\n",
    "joblib.dump((model), \"FEMALE-classification-using-logistic-regression.pkl\")"
   ]
  },
  {
   "cell_type": "code",
   "execution_count": 58,
   "id": "8764a7d2-7100-4259-8fdc-537bc1da3603",
   "metadata": {},
   "outputs": [],
   "source": [
    "accuracy = model.score(X_test, y_test)"
   ]
  },
  {
   "cell_type": "code",
   "execution_count": 59,
   "id": "bf65797c-c0a2-4bb0-b73e-b5b055318426",
   "metadata": {},
   "outputs": [
    {
     "name": "stdout",
     "output_type": "stream",
     "text": [
      "Akurasi Model: 72.3129760122347%\n"
     ]
    }
   ],
   "source": [
    "print(f\"Akurasi Model: {accuracy * 100}%\")"
   ]
  },
  {
   "cell_type": "code",
   "execution_count": 60,
   "id": "6cc3547c-66bc-40d9-9b3e-57d3559b1dc3",
   "metadata": {},
   "outputs": [
    {
     "data": {
      "image/png": "[encoded data removed]",
      "text/plain": [
       "<Figure size 432x288 with 1 Axes>"
      ]
     },
     "metadata": {
      "needs_background": "light"
     },
     "output_type": "display_data"
    }
   ],
   "source": [
    "# Visualisasi hasil Training Set\n",
    "plt.scatter(X_train, y_train, color = 'red')\n",
    "plt.plot(X_train, model.predict(X_train), color = 'blue')\n",
    "plt.title('Berat dan Tinggi badan')\n",
    "plt.xlabel('Weight')\n",
    "plt.ylabel('Height')\n",
    "plt.show()"
   ]
  },
  {
   "cell_type": "code",
   "execution_count": 61,
   "id": "3e935a6e-97dd-4727-ba3b-4fcae6ee3fab",
   "metadata": {},
   "outputs": [
    {
     "data": {
      "image/png": "[encoded data removed]",
      "text/plain": [
       "<Figure size 432x288 with 1 Axes>"
      ]
     },
     "metadata": {
      "needs_background": "light"
     },
     "output_type": "display_data"
    }
   ],
   "source": [
    "# Visualisasi hasil Test Set\n",
    "plt.scatter(X_test, y_test, color = 'red')\n",
    "plt.plot(X_train, regressor.predict(X_train), color = 'blue')\n",
    "plt.title('Berat dan Tinggi badan')\n",
    "plt.xlabel('Weight')\n",
    "plt.ylabel('Height')\n",
    "plt.show()"
   ]
  },
  {
   "cell_type": "code",
   "execution_count": 62,
   "id": "450098b5-1063-4f33-a839-76a7002422ac",
   "metadata": {},
   "outputs": [
    {
     "name": "stdout",
     "output_type": "stream",
     "text": [
      "[64.21613481]\n"
     ]
    }
   ],
   "source": [
    "prediksi = model.predict([[140]])\n",
    "print(prediksi)"
   ]
  },
  {
   "cell_type": "code",
   "execution_count": null,
   "id": "292fbb8f-3785-410d-8bac-ec14dc2c0376",
   "metadata": {},
   "outputs": [],
   "source": []
  }
 ],
 "metadata": {
  "kernelspec": {
   "display_name": "Python 3 (ipykernel)",
   "language": "python",
   "name": "python3"
  },
  "language_info": {
   "codemirror_mode": {
    "name": "ipython",
    "version": 3
   },
   "file_extension": ".py",
   "mimetype": "text/x-python",
   "name": "python",
   "nbconvert_exporter": "python",
   "pygments_lexer": "ipython3",
   "version": "3.9.7"
  }
 },
 "nbformat": 4,
 "nbformat_minor": 5
}
